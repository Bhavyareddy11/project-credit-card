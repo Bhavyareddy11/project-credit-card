{
 "cells": [
  {
   "cell_type": "code",
   "execution_count": 3,
   "metadata": {},
   "outputs": [
    {
     "data": {
      "text/html": [
       "<table>\n",
       "<thead><tr><th scope=col>Time</th><th scope=col>V1</th><th scope=col>V2</th><th scope=col>V3</th><th scope=col>V4</th><th scope=col>V5</th><th scope=col>V6</th><th scope=col>V7</th><th scope=col>V8</th><th scope=col>V9</th><th scope=col>...</th><th scope=col>V21</th><th scope=col>V22</th><th scope=col>V23</th><th scope=col>V24</th><th scope=col>V25</th><th scope=col>V26</th><th scope=col>V27</th><th scope=col>V28</th><th scope=col>Amount</th><th scope=col>Class</th></tr></thead>\n",
       "<tbody>\n",
       "\t<tr><td>0           </td><td>-1.3598071  </td><td>-0.07278117 </td><td>2.5363467   </td><td> 1.3781552  </td><td>-0.33832077 </td><td> 0.46238778 </td><td> 0.23959855 </td><td> 0.09869790 </td><td> 0.3637870  </td><td>...         </td><td>-0.018306778</td><td> 0.277837576</td><td>-0.11047391 </td><td> 0.06692807 </td><td> 0.1285394  </td><td>-0.1891148  </td><td> 0.133558377</td><td>-0.02105305 </td><td>149.62      </td><td>0           </td></tr>\n",
       "\t<tr><td>0           </td><td> 1.1918571  </td><td> 0.26615071 </td><td>0.1664801   </td><td> 0.4481541  </td><td> 0.06001765 </td><td>-0.08236081 </td><td>-0.07880298 </td><td> 0.08510165 </td><td>-0.2554251  </td><td>...         </td><td>-0.225775248</td><td>-0.638671953</td><td> 0.10128802 </td><td>-0.33984648 </td><td> 0.1671704  </td><td> 0.1258945  </td><td>-0.008983099</td><td> 0.01472417 </td><td>  2.69      </td><td>0           </td></tr>\n",
       "\t<tr><td>1           </td><td>-1.3583541  </td><td>-1.34016307 </td><td>1.7732093   </td><td> 0.3797796  </td><td>-0.50319813 </td><td> 1.80049938 </td><td> 0.79146096 </td><td> 0.24767579 </td><td>-1.5146543  </td><td>...         </td><td> 0.247998153</td><td> 0.771679402</td><td> 0.90941226 </td><td>-0.68928096 </td><td>-0.3276418  </td><td>-0.1390966  </td><td>-0.055352794</td><td>-0.05975184 </td><td>378.66      </td><td>0           </td></tr>\n",
       "\t<tr><td>1           </td><td>-0.9662717  </td><td>-0.18522601 </td><td>1.7929933   </td><td>-0.8632913  </td><td>-0.01030888 </td><td> 1.24720317 </td><td> 0.23760894 </td><td> 0.37743587 </td><td>-1.3870241  </td><td>...         </td><td>-0.108300452</td><td> 0.005273597</td><td>-0.19032052 </td><td>-1.17557533 </td><td> 0.6473760  </td><td>-0.2219288  </td><td> 0.062722849</td><td> 0.06145763 </td><td>123.50      </td><td>0           </td></tr>\n",
       "\t<tr><td>2           </td><td>-1.1582331  </td><td> 0.87773675 </td><td>1.5487178   </td><td> 0.4030339  </td><td>-0.40719338 </td><td> 0.09592146 </td><td> 0.59294075 </td><td>-0.27053268 </td><td> 0.8177393  </td><td>...         </td><td>-0.009430697</td><td> 0.798278495</td><td>-0.13745808 </td><td> 0.14126698 </td><td>-0.2060096  </td><td> 0.5022922  </td><td> 0.219422230</td><td> 0.21515315 </td><td> 69.99      </td><td>0           </td></tr>\n",
       "\t<tr><td>2           </td><td>-0.4259659  </td><td> 0.96052304 </td><td>1.1411093   </td><td>-0.1682521  </td><td> 0.42098688 </td><td>-0.02972755 </td><td> 0.47620095 </td><td> 0.26031433 </td><td>-0.5686714  </td><td>...         </td><td>-0.208253515</td><td>-0.559824796</td><td>-0.02639767 </td><td>-0.37142658 </td><td>-0.2327938  </td><td> 0.1059148  </td><td> 0.253844225</td><td> 0.08108026 </td><td>  3.67      </td><td>0           </td></tr>\n",
       "</tbody>\n",
       "</table>\n"
      ],
      "text/latex": [
       "\\begin{tabular}{r|lllllllllllllllllllllllllllllll}\n",
       " Time & V1 & V2 & V3 & V4 & V5 & V6 & V7 & V8 & V9 & ... & V21 & V22 & V23 & V24 & V25 & V26 & V27 & V28 & Amount & Class\\\\\n",
       "\\hline\n",
       "\t 0            & -1.3598071   & -0.07278117  & 2.5363467    &  1.3781552   & -0.33832077  &  0.46238778  &  0.23959855  &  0.09869790  &  0.3637870   & ...          & -0.018306778 &  0.277837576 & -0.11047391  &  0.06692807  &  0.1285394   & -0.1891148   &  0.133558377 & -0.02105305  & 149.62       & 0           \\\\\n",
       "\t 0            &  1.1918571   &  0.26615071  & 0.1664801    &  0.4481541   &  0.06001765  & -0.08236081  & -0.07880298  &  0.08510165  & -0.2554251   & ...          & -0.225775248 & -0.638671953 &  0.10128802  & -0.33984648  &  0.1671704   &  0.1258945   & -0.008983099 &  0.01472417  &   2.69       & 0           \\\\\n",
       "\t 1            & -1.3583541   & -1.34016307  & 1.7732093    &  0.3797796   & -0.50319813  &  1.80049938  &  0.79146096  &  0.24767579  & -1.5146543   & ...          &  0.247998153 &  0.771679402 &  0.90941226  & -0.68928096  & -0.3276418   & -0.1390966   & -0.055352794 & -0.05975184  & 378.66       & 0           \\\\\n",
       "\t 1            & -0.9662717   & -0.18522601  & 1.7929933    & -0.8632913   & -0.01030888  &  1.24720317  &  0.23760894  &  0.37743587  & -1.3870241   & ...          & -0.108300452 &  0.005273597 & -0.19032052  & -1.17557533  &  0.6473760   & -0.2219288   &  0.062722849 &  0.06145763  & 123.50       & 0           \\\\\n",
       "\t 2            & -1.1582331   &  0.87773675  & 1.5487178    &  0.4030339   & -0.40719338  &  0.09592146  &  0.59294075  & -0.27053268  &  0.8177393   & ...          & -0.009430697 &  0.798278495 & -0.13745808  &  0.14126698  & -0.2060096   &  0.5022922   &  0.219422230 &  0.21515315  &  69.99       & 0           \\\\\n",
       "\t 2            & -0.4259659   &  0.96052304  & 1.1411093    & -0.1682521   &  0.42098688  & -0.02972755  &  0.47620095  &  0.26031433  & -0.5686714   & ...          & -0.208253515 & -0.559824796 & -0.02639767  & -0.37142658  & -0.2327938   &  0.1059148   &  0.253844225 &  0.08108026  &   3.67       & 0           \\\\\n",
       "\\end{tabular}\n"
      ],
      "text/markdown": [
       "\n",
       "Time | V1 | V2 | V3 | V4 | V5 | V6 | V7 | V8 | V9 | ... | V21 | V22 | V23 | V24 | V25 | V26 | V27 | V28 | Amount | Class | \n",
       "|---|---|---|---|---|---|\n",
       "| 0            | -1.3598071   | -0.07278117  | 2.5363467    |  1.3781552   | -0.33832077  |  0.46238778  |  0.23959855  |  0.09869790  |  0.3637870   | ...          | -0.018306778 |  0.277837576 | -0.11047391  |  0.06692807  |  0.1285394   | -0.1891148   |  0.133558377 | -0.02105305  | 149.62       | 0            | \n",
       "| 0            |  1.1918571   |  0.26615071  | 0.1664801    |  0.4481541   |  0.06001765  | -0.08236081  | -0.07880298  |  0.08510165  | -0.2554251   | ...          | -0.225775248 | -0.638671953 |  0.10128802  | -0.33984648  |  0.1671704   |  0.1258945   | -0.008983099 |  0.01472417  |   2.69       | 0            | \n",
       "| 1            | -1.3583541   | -1.34016307  | 1.7732093    |  0.3797796   | -0.50319813  |  1.80049938  |  0.79146096  |  0.24767579  | -1.5146543   | ...          |  0.247998153 |  0.771679402 |  0.90941226  | -0.68928096  | -0.3276418   | -0.1390966   | -0.055352794 | -0.05975184  | 378.66       | 0            | \n",
       "| 1            | -0.9662717   | -0.18522601  | 1.7929933    | -0.8632913   | -0.01030888  |  1.24720317  |  0.23760894  |  0.37743587  | -1.3870241   | ...          | -0.108300452 |  0.005273597 | -0.19032052  | -1.17557533  |  0.6473760   | -0.2219288   |  0.062722849 |  0.06145763  | 123.50       | 0            | \n",
       "| 2            | -1.1582331   |  0.87773675  | 1.5487178    |  0.4030339   | -0.40719338  |  0.09592146  |  0.59294075  | -0.27053268  |  0.8177393   | ...          | -0.009430697 |  0.798278495 | -0.13745808  |  0.14126698  | -0.2060096   |  0.5022922   |  0.219422230 |  0.21515315  |  69.99       | 0            | \n",
       "| 2            | -0.4259659   |  0.96052304  | 1.1411093    | -0.1682521   |  0.42098688  | -0.02972755  |  0.47620095  |  0.26031433  | -0.5686714   | ...          | -0.208253515 | -0.559824796 | -0.02639767  | -0.37142658  | -0.2327938   |  0.1059148   |  0.253844225 |  0.08108026  |   3.67       | 0            | \n",
       "\n",
       "\n"
      ],
      "text/plain": [
       "  Time V1         V2          V3        V4         V5          V6         \n",
       "1 0    -1.3598071 -0.07278117 2.5363467  1.3781552 -0.33832077  0.46238778\n",
       "2 0     1.1918571  0.26615071 0.1664801  0.4481541  0.06001765 -0.08236081\n",
       "3 1    -1.3583541 -1.34016307 1.7732093  0.3797796 -0.50319813  1.80049938\n",
       "4 1    -0.9662717 -0.18522601 1.7929933 -0.8632913 -0.01030888  1.24720317\n",
       "5 2    -1.1582331  0.87773675 1.5487178  0.4030339 -0.40719338  0.09592146\n",
       "6 2    -0.4259659  0.96052304 1.1411093 -0.1682521  0.42098688 -0.02972755\n",
       "  V7          V8          V9         ... V21          V22          V23        \n",
       "1  0.23959855  0.09869790  0.3637870 ... -0.018306778  0.277837576 -0.11047391\n",
       "2 -0.07880298  0.08510165 -0.2554251 ... -0.225775248 -0.638671953  0.10128802\n",
       "3  0.79146096  0.24767579 -1.5146543 ...  0.247998153  0.771679402  0.90941226\n",
       "4  0.23760894  0.37743587 -1.3870241 ... -0.108300452  0.005273597 -0.19032052\n",
       "5  0.59294075 -0.27053268  0.8177393 ... -0.009430697  0.798278495 -0.13745808\n",
       "6  0.47620095  0.26031433 -0.5686714 ... -0.208253515 -0.559824796 -0.02639767\n",
       "  V24         V25        V26        V27          V28         Amount Class\n",
       "1  0.06692807  0.1285394 -0.1891148  0.133558377 -0.02105305 149.62 0    \n",
       "2 -0.33984648  0.1671704  0.1258945 -0.008983099  0.01472417   2.69 0    \n",
       "3 -0.68928096 -0.3276418 -0.1390966 -0.055352794 -0.05975184 378.66 0    \n",
       "4 -1.17557533  0.6473760 -0.2219288  0.062722849  0.06145763 123.50 0    \n",
       "5  0.14126698 -0.2060096  0.5022922  0.219422230  0.21515315  69.99 0    \n",
       "6 -0.37142658 -0.2327938  0.1059148  0.253844225  0.08108026   3.67 0    "
      ]
     },
     "metadata": {},
     "output_type": "display_data"
    }
   ],
   "source": [
    "library(readr)\n",
    "cc<- read.csv(\"C:\\\\Users\\\\Rishitha\\\\Documents\\\\R programs\\\\creditcard.csv\", header = TRUE,\n",
    "                 stringsAsFactors = FALSE,\n",
    "                 strip.white = TRUE ,\n",
    "                 sep = ',')\n",
    "head(cc)"
   ]
  },
  {
   "cell_type": "code",
   "execution_count": 10,
   "metadata": {},
   "outputs": [
    {
     "data": {
      "text/html": [
       "<table>\n",
       "<thead><tr><th scope=col>Var1</th><th scope=col>Freq</th></tr></thead>\n",
       "<tbody>\n",
       "\t<tr><td>0     </td><td>284315</td></tr>\n",
       "\t<tr><td>1     </td><td>   492</td></tr>\n",
       "</tbody>\n",
       "</table>\n"
      ],
      "text/latex": [
       "\\begin{tabular}{r|ll}\n",
       " Var1 & Freq\\\\\n",
       "\\hline\n",
       "\t 0      & 284315\\\\\n",
       "\t 1      &    492\\\\\n",
       "\\end{tabular}\n"
      ],
      "text/markdown": [
       "\n",
       "Var1 | Freq | \n",
       "|---|---|\n",
       "| 0      | 284315 | \n",
       "| 1      |    492 | \n",
       "\n",
       "\n"
      ],
      "text/plain": [
       "  Var1 Freq  \n",
       "1 0    284315\n",
       "2 1       492"
      ]
     },
     "metadata": {},
     "output_type": "display_data"
    }
   ],
   "source": [
    "#to check how many froad cases are noticed\n",
    "x1 <- data.frame(table(cc$Class))\n",
    "x1"
   ]
  },
  {
   "cell_type": "code",
   "execution_count": 9,
   "metadata": {},
   "outputs": [
    {
     "data": {
      "text/plain": [
       "Importance of components:\n",
       "                           PC1     PC2     PC3     PC4     PC5     PC6     PC7\n",
       "Standard deviation     1.39938 1.29757 1.00000 1.00000 1.00000 1.00000 1.00000\n",
       "Proportion of Variance 0.06528 0.05612 0.03333 0.03333 0.03333 0.03333 0.03333\n",
       "Cumulative Proportion  0.06528 0.12140 0.15473 0.18807 0.22140 0.25473 0.28807\n",
       "                           PC8     PC9    PC10    PC11    PC12    PC13    PC14\n",
       "Standard deviation     1.00000 1.00000 1.00000 1.00000 1.00000 1.00000 1.00000\n",
       "Proportion of Variance 0.03333 0.03333 0.03333 0.03333 0.03333 0.03333 0.03333\n",
       "Cumulative Proportion  0.32140 0.35473 0.38807 0.42140 0.45473 0.48807 0.52140\n",
       "                          PC15    PC16    PC17    PC18    PC19    PC20    PC21\n",
       "Standard deviation     1.00000 1.00000 1.00000 1.00000 1.00000 1.00000 1.00000\n",
       "Proportion of Variance 0.03333 0.03333 0.03333 0.03333 0.03333 0.03333 0.03333\n",
       "Cumulative Proportion  0.55473 0.58807 0.62140 0.65473 0.68807 0.72140 0.75473\n",
       "                          PC22    PC23    PC24    PC25    PC26    PC27    PC28\n",
       "Standard deviation     1.00000 1.00000 1.00000 1.00000 1.00000 1.00000 1.00000\n",
       "Proportion of Variance 0.03333 0.03333 0.03333 0.03333 0.03333 0.03333 0.03333\n",
       "Cumulative Proportion  0.78807 0.82140 0.85473 0.88807 0.92140 0.95473 0.98807\n",
       "                          PC29    PC30\n",
       "Standard deviation     0.56205 0.20532\n",
       "Proportion of Variance 0.01053 0.00141\n",
       "Cumulative Proportion  0.99859 1.00000"
      ]
     },
     "metadata": {},
     "output_type": "display_data"
    }
   ],
   "source": [
    "#we are excluding class variable \n",
    "cc.pca <- prcomp(cc[,c(-31)], center = TRUE,scale. = TRUE)\n",
    "\n",
    "summary(cc.pca)"
   ]
  },
  {
   "cell_type": "code",
   "execution_count": 8,
   "metadata": {
    "scrolled": true
   },
   "outputs": [
    {
     "data": {
      "image/png": "[encoded data removed]",
      "text/plain": [
       "Plot with title \"cc.pca\""
      ]
     },
     "metadata": {},
     "output_type": "display_data"
    }
   ],
   "source": [
    "#we found that time and amount has highest pca values\n",
    "plot(cc.pca)\n"
   ]
  },
  {
   "cell_type": "code",
   "execution_count": null,
   "metadata": {},
   "outputs": [],
   "source": []
  }
 ],
 "metadata": {
  "kernelspec": {
   "display_name": "R",
   "language": "R",
   "name": "ir"
  },
  "language_info": {
   "codemirror_mode": "r",
   "file_extension": ".r",
   "mimetype": "text/x-r-source",
   "name": "R",
   "pygments_lexer": "r",
   "version": "3.5.1"
  }
 },
 "nbformat": 4,
 "nbformat_minor": 2
}
